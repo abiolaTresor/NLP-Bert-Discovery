{
  "nbformat": 4,
  "nbformat_minor": 0,
  "metadata": {
    "colab": {
      "name": "BERT_vocabulary.ipynb",
      "provenance": [],
      "collapsed_sections": [],
      "toc_visible": true,
      "include_colab_link": true
    },
    "kernelspec": {
      "display_name": "Python 3",
      "language": "python",
      "name": "python3"
    },
    "language_info": {
      "codemirror_mode": {
        "name": "ipython",
        "version": 3
      },
      "file_extension": ".py",
      "mimetype": "text/x-python",
      "name": "python",
      "nbconvert_exporter": "python",
      "pygments_lexer": "ipython3",
      "version": "3.7.4"
    },
    "widgets": {
      "application/vnd.jupyter.widget-state+json": {
        "994473ea9dec4560976f66316adafcc2": {
          "model_module": "@jupyter-widgets/controls",
          "model_name": "HBoxModel",
          "state": {
            "_view_name": "HBoxView",
            "_dom_classes": [],
            "_model_name": "HBoxModel",
            "_view_module": "@jupyter-widgets/controls",
            "_model_module_version": "1.5.0",
            "_view_count": null,
            "_view_module_version": "1.5.0",
            "box_style": "",
            "layout": "IPY_MODEL_0b8a84805b8d4121b76bf447820c0e0f",
            "_model_module": "@jupyter-widgets/controls",
            "children": [
              "IPY_MODEL_a5ada2e090214080a2f062a31fc7feba",
              "IPY_MODEL_09f3815e5f834618977ceaa4090f8fb3"
            ]
          }
        },
        "0b8a84805b8d4121b76bf447820c0e0f": {
          "model_module": "@jupyter-widgets/base",
          "model_name": "LayoutModel",
          "state": {
            "_view_name": "LayoutView",
            "grid_template_rows": null,
            "right": null,
            "justify_content": null,
            "_view_module": "@jupyter-widgets/base",
            "overflow": null,
            "_model_module_version": "1.2.0",
            "_view_count": null,
            "flex_flow": null,
            "width": null,
            "min_width": null,
            "border": null,
            "align_items": null,
            "bottom": null,
            "_model_module": "@jupyter-widgets/base",
            "top": null,
            "grid_column": null,
            "overflow_y": null,
            "overflow_x": null,
            "grid_auto_flow": null,
            "grid_area": null,
            "grid_template_columns": null,
            "flex": null,
            "_model_name": "LayoutModel",
            "justify_items": null,
            "grid_row": null,
            "max_height": null,
            "align_content": null,
            "visibility": null,
            "align_self": null,
            "height": null,
            "min_height": null,
            "padding": null,
            "grid_auto_rows": null,
            "grid_gap": null,
            "max_width": null,
            "order": null,
            "_view_module_version": "1.2.0",
            "grid_template_areas": null,
            "object_position": null,
            "object_fit": null,
            "grid_auto_columns": null,
            "margin": null,
            "display": null,
            "left": null
          }
        },
        "a5ada2e090214080a2f062a31fc7feba": {
          "model_module": "@jupyter-widgets/controls",
          "model_name": "FloatProgressModel",
          "state": {
            "_view_name": "ProgressView",
            "style": "IPY_MODEL_eb12b14c51be456ca842d1af76a2ec70",
            "_dom_classes": [],
            "description": "Downloading: 100%",
            "_model_name": "FloatProgressModel",
            "bar_style": "success",
            "max": 231508,
            "_view_module": "@jupyter-widgets/controls",
            "_model_module_version": "1.5.0",
            "value": 231508,
            "_view_count": null,
            "_view_module_version": "1.5.0",
            "orientation": "horizontal",
            "min": 0,
            "description_tooltip": null,
            "_model_module": "@jupyter-widgets/controls",
            "layout": "IPY_MODEL_fa8e8765517240d29ca46f4705608ab6"
          }
        },
        "09f3815e5f834618977ceaa4090f8fb3": {
          "model_module": "@jupyter-widgets/controls",
          "model_name": "HTMLModel",
          "state": {
            "_view_name": "HTMLView",
            "style": "IPY_MODEL_5eed0a97e6254a7ca0902e3884edfc20",
            "_dom_classes": [],
            "description": "",
            "_model_name": "HTMLModel",
            "placeholder": "​",
            "_view_module": "@jupyter-widgets/controls",
            "_model_module_version": "1.5.0",
            "value": " 232k/232k [00:00&lt;00:00, 1.26MB/s]",
            "_view_count": null,
            "_view_module_version": "1.5.0",
            "description_tooltip": null,
            "_model_module": "@jupyter-widgets/controls",
            "layout": "IPY_MODEL_951aa07c4fb54019b8381d459d32d0ee"
          }
        },
        "eb12b14c51be456ca842d1af76a2ec70": {
          "model_module": "@jupyter-widgets/controls",
          "model_name": "ProgressStyleModel",
          "state": {
            "_view_name": "StyleView",
            "_model_name": "ProgressStyleModel",
            "description_width": "initial",
            "_view_module": "@jupyter-widgets/base",
            "_model_module_version": "1.5.0",
            "_view_count": null,
            "_view_module_version": "1.2.0",
            "bar_color": null,
            "_model_module": "@jupyter-widgets/controls"
          }
        },
        "fa8e8765517240d29ca46f4705608ab6": {
          "model_module": "@jupyter-widgets/base",
          "model_name": "LayoutModel",
          "state": {
            "_view_name": "LayoutView",
            "grid_template_rows": null,
            "right": null,
            "justify_content": null,
            "_view_module": "@jupyter-widgets/base",
            "overflow": null,
            "_model_module_version": "1.2.0",
            "_view_count": null,
            "flex_flow": null,
            "width": null,
            "min_width": null,
            "border": null,
            "align_items": null,
            "bottom": null,
            "_model_module": "@jupyter-widgets/base",
            "top": null,
            "grid_column": null,
            "overflow_y": null,
            "overflow_x": null,
            "grid_auto_flow": null,
            "grid_area": null,
            "grid_template_columns": null,
            "flex": null,
            "_model_name": "LayoutModel",
            "justify_items": null,
            "grid_row": null,
            "max_height": null,
            "align_content": null,
            "visibility": null,
            "align_self": null,
            "height": null,
            "min_height": null,
            "padding": null,
            "grid_auto_rows": null,
            "grid_gap": null,
            "max_width": null,
            "order": null,
            "_view_module_version": "1.2.0",
            "grid_template_areas": null,
            "object_position": null,
            "object_fit": null,
            "grid_auto_columns": null,
            "margin": null,
            "display": null,
            "left": null
          }
        },
        "5eed0a97e6254a7ca0902e3884edfc20": {
          "model_module": "@jupyter-widgets/controls",
          "model_name": "DescriptionStyleModel",
          "state": {
            "_view_name": "StyleView",
            "_model_name": "DescriptionStyleModel",
            "description_width": "",
            "_view_module": "@jupyter-widgets/base",
            "_model_module_version": "1.5.0",
            "_view_count": null,
            "_view_module_version": "1.2.0",
            "_model_module": "@jupyter-widgets/controls"
          }
        },
        "951aa07c4fb54019b8381d459d32d0ee": {
          "model_module": "@jupyter-widgets/base",
          "model_name": "LayoutModel",
          "state": {
            "_view_name": "LayoutView",
            "grid_template_rows": null,
            "right": null,
            "justify_content": null,
            "_view_module": "@jupyter-widgets/base",
            "overflow": null,
            "_model_module_version": "1.2.0",
            "_view_count": null,
            "flex_flow": null,
            "width": null,
            "min_width": null,
            "border": null,
            "align_items": null,
            "bottom": null,
            "_model_module": "@jupyter-widgets/base",
            "top": null,
            "grid_column": null,
            "overflow_y": null,
            "overflow_x": null,
            "grid_auto_flow": null,
            "grid_area": null,
            "grid_template_columns": null,
            "flex": null,
            "_model_name": "LayoutModel",
            "justify_items": null,
            "grid_row": null,
            "max_height": null,
            "align_content": null,
            "visibility": null,
            "align_self": null,
            "height": null,
            "min_height": null,
            "padding": null,
            "grid_auto_rows": null,
            "grid_gap": null,
            "max_width": null,
            "order": null,
            "_view_module_version": "1.2.0",
            "grid_template_areas": null,
            "object_position": null,
            "object_fit": null,
            "grid_auto_columns": null,
            "margin": null,
            "display": null,
            "left": null
          }
        }
      }
    }
  },
  "cells": [
    {
      "cell_type": "markdown",
      "metadata": {
        "id": "view-in-github",
        "colab_type": "text"
      },
      "source": [
        "<a href=\"https://colab.research.google.com/github/abiolaTresor/NLP-Bert-Discovery/blob/master/BERT_vocabulary.ipynb\" target=\"_parent\"><img src=\"https://colab.research.google.com/assets/colab-badge.svg\" alt=\"Open In Colab\"/></a>"
      ]
    },
    {
      "cell_type": "markdown",
      "metadata": {
        "colab_type": "text",
        "id": "whjogPl1KL4-"
      },
      "source": [
        "# Lab 1: Introduction"
      ]
    },
    {
      "cell_type": "markdown",
      "metadata": {
        "colab_type": "text",
        "id": "O0wWu4oEKYtc"
      },
      "source": [
        "First, we need to install the transformers library.\n",
        "Other than that, the packages will need are already installed in Colab (e.g., pytorch)."
      ]
    },
    {
      "cell_type": "code",
      "metadata": {
        "colab_type": "code",
        "id": "PzCjfNB6jksJ",
        "colab": {
          "base_uri": "https://localhost:8080/",
          "height": 615
        },
        "outputId": "51045935-0e16-4f85-e102-5d87bbc066e2"
      },
      "source": [
        "!pip install transformers"
      ],
      "execution_count": null,
      "outputs": [
        {
          "output_type": "stream",
          "text": [
            "Collecting transformers\n",
            "\u001b[?25l  Downloading https://files.pythonhosted.org/packages/ae/05/c8c55b600308dc04e95100dc8ad8a244dd800fe75dfafcf1d6348c6f6209/transformers-3.1.0-py3-none-any.whl (884kB)\n",
            "\u001b[K     |████████████████████████████████| 890kB 2.8MB/s \n",
            "\u001b[?25hCollecting sentencepiece!=0.1.92\n",
            "\u001b[?25l  Downloading https://files.pythonhosted.org/packages/d4/a4/d0a884c4300004a78cca907a6ff9a5e9fe4f090f5d95ab341c53d28cbc58/sentencepiece-0.1.91-cp36-cp36m-manylinux1_x86_64.whl (1.1MB)\n",
            "\u001b[K     |████████████████████████████████| 1.1MB 9.8MB/s \n",
            "\u001b[?25hRequirement already satisfied: numpy in /usr/local/lib/python3.6/dist-packages (from transformers) (1.18.5)\n",
            "Collecting tokenizers==0.8.1.rc2\n",
            "\u001b[?25l  Downloading https://files.pythonhosted.org/packages/80/83/8b9fccb9e48eeb575ee19179e2bdde0ee9a1904f97de5f02d19016b8804f/tokenizers-0.8.1rc2-cp36-cp36m-manylinux1_x86_64.whl (3.0MB)\n",
            "\u001b[K     |████████████████████████████████| 3.0MB 26.0MB/s \n",
            "\u001b[?25hRequirement already satisfied: regex!=2019.12.17 in /usr/local/lib/python3.6/dist-packages (from transformers) (2019.12.20)\n",
            "Requirement already satisfied: tqdm>=4.27 in /usr/local/lib/python3.6/dist-packages (from transformers) (4.41.1)\n",
            "Collecting sacremoses\n",
            "\u001b[?25l  Downloading https://files.pythonhosted.org/packages/7d/34/09d19aff26edcc8eb2a01bed8e98f13a1537005d31e95233fd48216eed10/sacremoses-0.0.43.tar.gz (883kB)\n",
            "\u001b[K     |████████████████████████████████| 890kB 41.7MB/s \n",
            "\u001b[?25hRequirement already satisfied: packaging in /usr/local/lib/python3.6/dist-packages (from transformers) (20.4)\n",
            "Requirement already satisfied: filelock in /usr/local/lib/python3.6/dist-packages (from transformers) (3.0.12)\n",
            "Requirement already satisfied: dataclasses; python_version < \"3.7\" in /usr/local/lib/python3.6/dist-packages (from transformers) (0.7)\n",
            "Requirement already satisfied: requests in /usr/local/lib/python3.6/dist-packages (from transformers) (2.23.0)\n",
            "Requirement already satisfied: six in /usr/local/lib/python3.6/dist-packages (from sacremoses->transformers) (1.15.0)\n",
            "Requirement already satisfied: click in /usr/local/lib/python3.6/dist-packages (from sacremoses->transformers) (7.1.2)\n",
            "Requirement already satisfied: joblib in /usr/local/lib/python3.6/dist-packages (from sacremoses->transformers) (0.16.0)\n",
            "Requirement already satisfied: pyparsing>=2.0.2 in /usr/local/lib/python3.6/dist-packages (from packaging->transformers) (2.4.7)\n",
            "Requirement already satisfied: chardet<4,>=3.0.2 in /usr/local/lib/python3.6/dist-packages (from requests->transformers) (3.0.4)\n",
            "Requirement already satisfied: idna<3,>=2.5 in /usr/local/lib/python3.6/dist-packages (from requests->transformers) (2.10)\n",
            "Requirement already satisfied: urllib3!=1.25.0,!=1.25.1,<1.26,>=1.21.1 in /usr/local/lib/python3.6/dist-packages (from requests->transformers) (1.24.3)\n",
            "Requirement already satisfied: certifi>=2017.4.17 in /usr/local/lib/python3.6/dist-packages (from requests->transformers) (2020.6.20)\n",
            "Building wheels for collected packages: sacremoses\n",
            "  Building wheel for sacremoses (setup.py) ... \u001b[?25l\u001b[?25hdone\n",
            "  Created wheel for sacremoses: filename=sacremoses-0.0.43-cp36-none-any.whl size=893257 sha256=97567efda3e666a10cf6af9862d1453d75943a66610ae651559e35bf339c0a74\n",
            "  Stored in directory: /root/.cache/pip/wheels/29/3c/fd/7ce5c3f0666dab31a50123635e6fb5e19ceb42ce38d4e58f45\n",
            "Successfully built sacremoses\n",
            "Installing collected packages: sentencepiece, tokenizers, sacremoses, transformers\n",
            "Successfully installed sacremoses-0.0.43 sentencepiece-0.1.91 tokenizers-0.8.1rc2 transformers-3.1.0\n"
          ],
          "name": "stdout"
        }
      ]
    },
    {
      "cell_type": "code",
      "metadata": {
        "colab_type": "code",
        "id": "nwpkz_WYjscB",
        "colab": {
          "base_uri": "https://localhost:8080/",
          "height": 71
        },
        "outputId": "e39c45e7-4452-4f12-bf2d-b1d0b6994254"
      },
      "source": [
        "# Imports\n",
        "import torch\n",
        "from transformers import BertTokenizer\n",
        "import matplotlib.pyplot as plt\n",
        "import seaborn as sns\n",
        "import numpy as np\n",
        "import random"
      ],
      "execution_count": null,
      "outputs": [
        {
          "output_type": "stream",
          "text": [
            "/usr/local/lib/python3.6/dist-packages/statsmodels/tools/_testing.py:19: FutureWarning: pandas.util.testing is deprecated. Use the functions in the public API at pandas.testing instead.\n",
            "  import pandas.util.testing as tm\n"
          ],
          "name": "stderr"
        }
      ]
    },
    {
      "cell_type": "code",
      "metadata": {
        "colab_type": "code",
        "id": "Cpr3fdTrP951",
        "colab": {}
      },
      "source": [
        "# Set plotting style\n",
        "sns.set(style='darkgrid')\n",
        "\n",
        "# Increase the plot size and font size.\n",
        "sns.set(font_scale=1.5)\n",
        "plt.rcParams[\"figure.figsize\"] = (10,5)"
      ],
      "execution_count": null,
      "outputs": []
    },
    {
      "cell_type": "markdown",
      "metadata": {
        "colab_type": "text",
        "id": "B8FD0tDpKVBF"
      },
      "source": [
        "## Inspect BERT Vocabulary\n",
        "\n",
        "Let us start by inspecting the BERT vocabulary that is the words, subwords and characters that BERT learned their embeddings during pretraining."
      ]
    },
    {
      "cell_type": "markdown",
      "metadata": {
        "colab_type": "text",
        "id": "Q2GhWrQYP957"
      },
      "source": [
        "### Vocabulary\n",
        "First, we'll retrieve the entire list of \"tokens\" and write these out to text files so we can see them."
      ]
    },
    {
      "cell_type": "code",
      "metadata": {
        "colab_type": "code",
        "id": "NRf7NXJGgsnG",
        "colab": {
          "base_uri": "https://localhost:8080/",
          "height": 66,
          "referenced_widgets": [
            "994473ea9dec4560976f66316adafcc2",
            "0b8a84805b8d4121b76bf447820c0e0f",
            "a5ada2e090214080a2f062a31fc7feba",
            "09f3815e5f834618977ceaa4090f8fb3",
            "eb12b14c51be456ca842d1af76a2ec70",
            "fa8e8765517240d29ca46f4705608ab6",
            "5eed0a97e6254a7ca0902e3884edfc20",
            "951aa07c4fb54019b8381d459d32d0ee"
          ]
        },
        "outputId": "5b8bfc1c-fc68-4f27-a3cb-52bf537d0312"
      },
      "source": [
        "# Load pre-trained model tokenizer, and write each token on a new line\n",
        "tokenizer = BertTokenizer.from_pretrained('bert-base-uncased')\n",
        "\n",
        "with open(\"vocabulary.txt\", 'w') as f:\n",
        "    for token in tokenizer.vocab.keys():\n",
        "        f.write(token + '\\n')"
      ],
      "execution_count": null,
      "outputs": [
        {
          "output_type": "display_data",
          "data": {
            "application/vnd.jupyter.widget-view+json": {
              "model_id": "994473ea9dec4560976f66316adafcc2",
              "version_minor": 0,
              "version_major": 2
            },
            "text/plain": [
              "HBox(children=(FloatProgress(value=0.0, description='Downloading', max=231508.0, style=ProgressStyle(descripti…"
            ]
          },
          "metadata": {
            "tags": []
          }
        },
        {
          "output_type": "stream",
          "text": [
            "\n"
          ],
          "name": "stdout"
        }
      ]
    },
    {
      "cell_type": "markdown",
      "metadata": {
        "colab_type": "text",
        "id": "c8geTQ3Iidsv"
      },
      "source": [
        "Now if you go and open the file we're just dumped, you'll see the vocabulary BERT uses, for example:\n",
        "\n",
        "* The first 999 tokens (1-indexed) appear to be reserved, and most are of the form [unused957].\n",
        "    * 1   - [PAD]\n",
        "    * 101 - [UNK]\n",
        "    * 102 - [CLS]\n",
        "    * 103 - [SEP]\n",
        "    * 104 - [MASK]\n",
        "* Rows 1000-1996 appear to be a dump of individual characters. \n",
        "    * They don't appear to be sorted by frequency (e.g., the letters of the alphabet are all in sequence).\n",
        "* The first word is \"the\" at position 1997.\n",
        "    * From there, the words appear to be sorted by frequency. \n",
        "    * The top ~18 words are whole words, and then number 2016 is ##s, the most common subword.\n",
        "    * The last whole word is at 29612, \"necessitated\""
      ]
    },
    {
      "cell_type": "markdown",
      "metadata": {
        "colab_type": "text",
        "id": "uviYdpTZYMmd"
      },
      "source": [
        "### Single Characters"
      ]
    },
    {
      "cell_type": "markdown",
      "metadata": {
        "colab_type": "text",
        "id": "Bu-KbpbR1L4q"
      },
      "source": [
        "As discussed earlier, BERT vocabulary contains subwords and characters, that are very useful to represent some the input text if its not in the vocabulary in the form of whole word. Avoiding the need to UNKOWN tokens.\n",
        "\n",
        "Let's see how much of the vocabulary are single characters and subwords of single characters, i.e., subwords have a '##' as a prefix, so **##s** is a subword and **s** in a charcater."
      ]
    },
    {
      "cell_type": "markdown",
      "metadata": {
        "colab_type": "text",
        "id": "uBYA-hHWP96F"
      },
      "source": [
        "\n",
        "The following code prints out all of the single character tokens in vocabulary, as well as all of the single-character tokens preceded by '##'.\n",
        "\n",
        "It turns out that these are matching sets--for every standalone character there is also a '##' version. There are 997 single character tokens."
      ]
    },
    {
      "cell_type": "markdown",
      "metadata": {
        "colab_type": "text",
        "id": "Q6ysF8LD1fbl"
      },
      "source": [
        "The following cell iterates over the vocabulary, pulling out all of the single character tokens."
      ]
    },
    {
      "cell_type": "code",
      "metadata": {
        "colab_type": "code",
        "id": "YHpH2NEPy3t9",
        "colab": {
          "base_uri": "https://localhost:8080/",
          "height": 85
        },
        "outputId": "c6e9ad34-2610-429b-a3d9-8e75ddc3afad"
      },
      "source": [
        "# Fetch tokens that are either characters, so of length one\n",
        "# Or tokens that are either subword of one character, so of length 3 and a prefix ##\n",
        "\n",
        "one_chars = []\n",
        "one_chars_subwords = []\n",
        "\n",
        "for token in tokenizer.vocab.keys():\n",
        "    if len(token) == 1:\n",
        "        one_chars.append(token)\n",
        "    \n",
        "    elif len(token) == 3 and token[0:2] == '##':\n",
        "        one_chars_subwords.append(token)\n",
        "\n",
        "print('Number of single character tokens:', len(one_chars), '\\n')\n",
        "\n",
        "print('Number of single character subwords:', len(one_chars_subwords), '\\n')"
      ],
      "execution_count": null,
      "outputs": [
        {
          "output_type": "stream",
          "text": [
            "Number of single character tokens: 997 \n",
            "\n",
            "Number of single character subwords: 997 \n",
            "\n"
          ],
          "name": "stdout"
        }
      ]
    },
    {
      "cell_type": "code",
      "metadata": {
        "colab_type": "code",
        "id": "jCzfsjHrzZYn",
        "colab": {
          "base_uri": "https://localhost:8080/",
          "height": 462
        },
        "outputId": "b7b70bd6-464b-4cb2-c3b8-bee5fd6f02b9"
      },
      "source": [
        "# Print all of the single characters, 40 per row.\n",
        "for i in range(0, len(one_chars), 40):\n",
        "    print(' '.join(one_chars[i:i + 40]))"
      ],
      "execution_count": null,
      "outputs": [
        {
          "output_type": "stream",
          "text": [
            "! \" # $ % & ' ( ) * + , - . / 0 1 2 3 4 5 6 7 8 9 : ; < = > ? @ [ \\ ] ^ _ ` a b\n",
            "c d e f g h i j k l m n o p q r s t u v w x y z { | } ~ ¡ ¢ £ ¤ ¥ ¦ § ¨ © ª « ¬\n",
            "® ° ± ² ³ ´ µ ¶ · ¹ º » ¼ ½ ¾ ¿ × ß æ ð ÷ ø þ đ ħ ı ł ŋ œ ƒ ɐ ɑ ɒ ɔ ɕ ə ɛ ɡ ɣ ɨ\n",
            "ɪ ɫ ɬ ɯ ɲ ɴ ɹ ɾ ʀ ʁ ʂ ʃ ʉ ʊ ʋ ʌ ʎ ʐ ʑ ʒ ʔ ʰ ʲ ʳ ʷ ʸ ʻ ʼ ʾ ʿ ˈ ː ˡ ˢ ˣ ˤ α β γ δ\n",
            "ε ζ η θ ι κ λ μ ν ξ ο π ρ ς σ τ υ φ χ ψ ω а б в г д е ж з и к л м н о п р с т у\n",
            "ф х ц ч ш щ ъ ы ь э ю я ђ є і ј љ њ ћ ӏ ա բ գ դ ե թ ի լ կ հ մ յ ն ո պ ս վ տ ր ւ\n",
            "ք ־ א ב ג ד ה ו ז ח ט י ך כ ל ם מ ן נ ס ע ף פ ץ צ ק ר ש ת ، ء ا ب ة ت ث ج ح خ د\n",
            "ذ ر ز س ش ص ض ط ظ ع غ ـ ف ق ك ل م ن ه و ى ي ٹ پ چ ک گ ں ھ ہ ی ے अ आ उ ए क ख ग च\n",
            "ज ट ड ण त थ द ध न प ब भ म य र ल व श ष स ह ा ि ी ो । ॥ ং অ আ ই উ এ ও ক খ গ চ ছ জ\n",
            "ট ড ণ ত থ দ ধ ন প ব ভ ম য র ল শ ষ স হ া ি ী ে க ச ட த ந ன ப ம ய ர ல ள வ ா ி ு ே\n",
            "ை ನ ರ ಾ ක ය ර ල ව ා ก ง ต ท น พ ม ย ร ล ว ส อ า เ ་ ། ག ང ད ན པ བ མ འ ར ལ ས မ ა\n",
            "ბ გ დ ე ვ თ ი კ ლ მ ნ ო რ ს ტ უ ᄀ ᄂ ᄃ ᄅ ᄆ ᄇ ᄉ ᄊ ᄋ ᄌ ᄎ ᄏ ᄐ ᄑ ᄒ ᅡ ᅢ ᅥ ᅦ ᅧ ᅩ ᅪ ᅭ ᅮ\n",
            "ᅯ ᅲ ᅳ ᅴ ᅵ ᆨ ᆫ ᆯ ᆷ ᆸ ᆼ ᴬ ᴮ ᴰ ᴵ ᴺ ᵀ ᵃ ᵇ ᵈ ᵉ ᵍ ᵏ ᵐ ᵒ ᵖ ᵗ ᵘ ᵢ ᵣ ᵤ ᵥ ᶜ ᶠ ‐ ‑ ‒ – — ―\n",
            "‖ ‘ ’ ‚ “ ” „ † ‡ • … ‰ ′ ″ › ‿ ⁄ ⁰ ⁱ ⁴ ⁵ ⁶ ⁷ ⁸ ⁹ ⁺ ⁻ ⁿ ₀ ₁ ₂ ₃ ₄ ₅ ₆ ₇ ₈ ₉ ₊ ₍\n",
            "₎ ₐ ₑ ₒ ₓ ₕ ₖ ₗ ₘ ₙ ₚ ₛ ₜ ₤ ₩ € ₱ ₹ ℓ № ℝ ™ ⅓ ⅔ ← ↑ → ↓ ↔ ↦ ⇄ ⇌ ⇒ ∂ ∅ ∆ ∇ ∈ − ∗\n",
            "∘ √ ∞ ∧ ∨ ∩ ∪ ≈ ≡ ≤ ≥ ⊂ ⊆ ⊕ ⊗ ⋅ ─ │ ■ ▪ ● ★ ☆ ☉ ♠ ♣ ♥ ♦ ♭ ♯ ⟨ ⟩ ⱼ ⺩ ⺼ ⽥ 、 。 〈 〉\n",
            "《 》 「 」 『 』 〜 あ い う え お か き く け こ さ し す せ そ た ち っ つ て と な に ぬ ね の は ひ ふ へ ほ ま み\n",
            "む め も や ゆ よ ら り る れ ろ を ん ァ ア ィ イ ウ ェ エ オ カ キ ク ケ コ サ シ ス セ タ チ ッ ツ テ ト ナ ニ ノ ハ\n",
            "ヒ フ ヘ ホ マ ミ ム メ モ ャ ュ ョ ラ リ ル レ ロ ワ ン ・ ー 一 三 上 下 不 世 中 主 久 之 也 事 二 五 井 京 人 亻 仁\n",
            "介 代 仮 伊 会 佐 侍 保 信 健 元 光 八 公 内 出 分 前 劉 力 加 勝 北 区 十 千 南 博 原 口 古 史 司 合 吉 同 名 和 囗 四\n",
            "国 國 土 地 坂 城 堂 場 士 夏 外 大 天 太 夫 奈 女 子 学 宀 宇 安 宗 定 宣 宮 家 宿 寺 將 小 尚 山 岡 島 崎 川 州 巿 帝\n",
            "平 年 幸 广 弘 張 彳 後 御 德 心 忄 志 忠 愛 成 我 戦 戸 手 扌 政 文 新 方 日 明 星 春 昭 智 曲 書 月 有 朝 木 本 李 村\n",
            "東 松 林 森 楊 樹 橋 歌 止 正 武 比 氏 民 水 氵 氷 永 江 沢 河 治 法 海 清 漢 瀬 火 版 犬 王 生 田 男 疒 発 白 的 皇 目\n",
            "相 省 真 石 示 社 神 福 禾 秀 秋 空 立 章 竹 糹 美 義 耳 良 艹 花 英 華 葉 藤 行 街 西 見 訁 語 谷 貝 貴 車 軍 辶 道 郎\n",
            "郡 部 都 里 野 金 鈴 镇 長 門 間 阝 阿 陳 陽 雄 青 面 風 食 香 馬 高 龍 龸 ﬁ ﬂ ！ （ ） ， － ． ／ ： ？ ～\n"
          ],
          "name": "stdout"
        }
      ]
    },
    {
      "cell_type": "code",
      "metadata": {
        "colab_type": "code",
        "id": "62MD-M1N0R-W",
        "colab": {
          "base_uri": "https://localhost:8080/",
          "height": 462
        },
        "outputId": "00896d09-d7ad-4c46-8d34-636eb2b81e2f"
      },
      "source": [
        "# Print all of the single character subwords, 40 per row, without the hashes.\n",
        "one_chars_subwords = [token.replace('##', '') for token in one_chars_subwords]\n",
        "\n",
        "for i in range(0, len(one_chars_subwords), 40):\n",
        "    print(' '.join(one_chars_subwords[i:i + 40]))"
      ],
      "execution_count": null,
      "outputs": [
        {
          "output_type": "stream",
          "text": [
            "s a e i n o d r y t l m u h k c g p 2 z 1 b 3 f 4 6 7 x v 8 5 9 0 w j q ° ₂ а и\n",
            "² ₃ ı ₁ ⁺ ½ о ه ي α е د ن ν ø р ₄ ₀ ر я ³ ι ł н ᵢ ₙ ß ة ς م − т ː ل ь к ♭ η ی в\n",
            "ا × ¹ ы ה ɛ л ! \" # $ % & ' ( ) * + , - . / : ; < = > ? @ [ \\ ] ^ _ ` { | } ~ ¡\n",
            "¢ £ ¤ ¥ ¦ § ¨ © ª « ¬ ® ± ´ µ ¶ · º » ¼ ¾ ¿ æ ð ÷ þ đ ħ ŋ œ ƒ ɐ ɑ ɒ ɔ ɕ ə ɡ ɣ ɨ\n",
            "ɪ ɫ ɬ ɯ ɲ ɴ ɹ ɾ ʀ ʁ ʂ ʃ ʉ ʊ ʋ ʌ ʎ ʐ ʑ ʒ ʔ ʰ ʲ ʳ ʷ ʸ ʻ ʼ ʾ ʿ ˈ ˡ ˢ ˣ ˤ β γ δ ε ζ\n",
            "θ κ λ μ ξ ο π ρ σ τ υ φ χ ψ ω б г д ж з м п с у ф х ц ч ш щ ъ э ю ђ є і ј љ њ ћ\n",
            "ӏ ա բ գ դ ե թ ի լ կ հ մ յ ն ո պ ս վ տ ր ւ ք ־ א ב ג ד ו ז ח ט י ך כ ל ם מ ן נ ס\n",
            "ע ף פ ץ צ ק ר ש ת ، ء ب ت ث ج ح خ ذ ز س ش ص ض ط ظ ع غ ـ ف ق ك و ى ٹ پ چ ک گ ں ھ\n",
            "ہ ے अ आ उ ए क ख ग च ज ट ड ण त थ द ध न प ब भ म य र ल व श ष स ह ा ि ी ो । ॥ ং অ আ\n",
            "ই উ এ ও ক খ গ চ ছ জ ট ড ণ ত থ দ ধ ন প ব ভ ম য র ল শ ষ স হ া ি ী ে க ச ட த ந ன ப\n",
            "ம ய ர ல ள வ ா ி ு ே ை ನ ರ ಾ ක ය ර ල ව ා ก ง ต ท น พ ม ย ร ล ว ส อ า เ ་ ། ག ང ད\n",
            "ན པ བ མ འ ར ལ ས မ ა ბ გ დ ე ვ თ ი კ ლ მ ნ ო რ ს ტ უ ᄀ ᄂ ᄃ ᄅ ᄆ ᄇ ᄉ ᄊ ᄋ ᄌ ᄎ ᄏ ᄐ ᄑ\n",
            "ᄒ ᅡ ᅢ ᅥ ᅦ ᅧ ᅩ ᅪ ᅭ ᅮ ᅯ ᅲ ᅳ ᅴ ᅵ ᆨ ᆫ ᆯ ᆷ ᆸ ᆼ ᴬ ᴮ ᴰ ᴵ ᴺ ᵀ ᵃ ᵇ ᵈ ᵉ ᵍ ᵏ ᵐ ᵒ ᵖ ᵗ ᵘ ᵣ ᵤ\n",
            "ᵥ ᶜ ᶠ ‐ ‑ ‒ – — ― ‖ ‘ ’ ‚ “ ” „ † ‡ • … ‰ ′ ″ › ‿ ⁄ ⁰ ⁱ ⁴ ⁵ ⁶ ⁷ ⁸ ⁹ ⁻ ⁿ ₅ ₆ ₇ ₈\n",
            "₉ ₊ ₍ ₎ ₐ ₑ ₒ ₓ ₕ ₖ ₗ ₘ ₚ ₛ ₜ ₤ ₩ € ₱ ₹ ℓ № ℝ ™ ⅓ ⅔ ← ↑ → ↓ ↔ ↦ ⇄ ⇌ ⇒ ∂ ∅ ∆ ∇ ∈\n",
            "∗ ∘ √ ∞ ∧ ∨ ∩ ∪ ≈ ≡ ≤ ≥ ⊂ ⊆ ⊕ ⊗ ⋅ ─ │ ■ ▪ ● ★ ☆ ☉ ♠ ♣ ♥ ♦ ♯ ⟨ ⟩ ⱼ ⺩ ⺼ ⽥ 、 。 〈 〉\n",
            "《 》 「 」 『 』 〜 あ い う え お か き く け こ さ し す せ そ た ち っ つ て と な に ぬ ね の は ひ ふ へ ほ ま み\n",
            "む め も や ゆ よ ら り る れ ろ を ん ァ ア ィ イ ウ ェ エ オ カ キ ク ケ コ サ シ ス セ タ チ ッ ツ テ ト ナ ニ ノ ハ\n",
            "ヒ フ ヘ ホ マ ミ ム メ モ ャ ュ ョ ラ リ ル レ ロ ワ ン ・ ー 一 三 上 下 不 世 中 主 久 之 也 事 二 五 井 京 人 亻 仁\n",
            "介 代 仮 伊 会 佐 侍 保 信 健 元 光 八 公 内 出 分 前 劉 力 加 勝 北 区 十 千 南 博 原 口 古 史 司 合 吉 同 名 和 囗 四\n",
            "国 國 土 地 坂 城 堂 場 士 夏 外 大 天 太 夫 奈 女 子 学 宀 宇 安 宗 定 宣 宮 家 宿 寺 將 小 尚 山 岡 島 崎 川 州 巿 帝\n",
            "平 年 幸 广 弘 張 彳 後 御 德 心 忄 志 忠 愛 成 我 戦 戸 手 扌 政 文 新 方 日 明 星 春 昭 智 曲 書 月 有 朝 木 本 李 村\n",
            "東 松 林 森 楊 樹 橋 歌 止 正 武 比 氏 民 水 氵 氷 永 江 沢 河 治 法 海 清 漢 瀬 火 版 犬 王 生 田 男 疒 発 白 的 皇 目\n",
            "相 省 真 石 示 社 神 福 禾 秀 秋 空 立 章 竹 糹 美 義 耳 良 艹 花 英 華 葉 藤 行 街 西 見 訁 語 谷 貝 貴 車 軍 辶 道 郎\n",
            "郡 部 都 里 野 金 鈴 镇 長 門 間 阝 阿 陳 陽 雄 青 面 風 食 香 馬 高 龍 龸 ﬁ ﬂ ！ （ ） ， － ． ／ ： ？ ～\n"
          ],
          "name": "stdout"
        }
      ]
    },
    {
      "cell_type": "code",
      "metadata": {
        "colab_type": "code",
        "id": "u-TFrVP9005S",
        "colab": {
          "base_uri": "https://localhost:8080/",
          "height": 34
        },
        "outputId": "c7666753-96aa-4842-d1b9-86d6a8ab2b6b"
      },
      "source": [
        "# We see that each character can also be a subword\n",
        "print('Are the two sets identical?', set(one_chars) == set(one_chars_subwords))"
      ],
      "execution_count": null,
      "outputs": [
        {
          "output_type": "stream",
          "text": [
            "Are the two sets identical? True\n"
          ],
          "name": "stdout"
        }
      ]
    },
    {
      "cell_type": "code",
      "metadata": {
        "id": "l6g7_ecNxnjJ",
        "colab_type": "code",
        "colab": {
          "base_uri": "https://localhost:8080/",
          "height": 54
        },
        "outputId": "b69f2ef5-eb94-4c03-ff15-49bd7f645ddd"
      },
      "source": [
        "print(one_chars_subwords)"
      ],
      "execution_count": null,
      "outputs": [
        {
          "output_type": "stream",
          "text": [
            "['s', 'a', 'e', 'i', 'n', 'o', 'd', 'r', 'y', 't', 'l', 'm', 'u', 'h', 'k', 'c', 'g', 'p', '2', 'z', '1', 'b', '3', 'f', '4', '6', '7', 'x', 'v', '8', '5', '9', '0', 'w', 'j', 'q', '°', '₂', 'а', 'и', '²', '₃', 'ı', '₁', '⁺', '½', 'о', 'ه', 'ي', 'α', 'е', 'د', 'ن', 'ν', 'ø', 'р', '₄', '₀', 'ر', 'я', '³', 'ι', 'ł', 'н', 'ᵢ', 'ₙ', 'ß', 'ة', 'ς', 'م', '−', 'т', 'ː', 'ل', 'ь', 'к', '♭', 'η', 'ی', 'в', 'ا', '×', '¹', 'ы', 'ה', 'ɛ', 'л', '!', '\"', '#', '$', '%', '&', \"'\", '(', ')', '*', '+', ',', '-', '.', '/', ':', ';', '<', '=', '>', '?', '@', '[', '\\\\', ']', '^', '_', '`', '{', '|', '}', '~', '¡', '¢', '£', '¤', '¥', '¦', '§', '¨', '©', 'ª', '«', '¬', '®', '±', '´', 'µ', '¶', '·', 'º', '»', '¼', '¾', '¿', 'æ', 'ð', '÷', 'þ', 'đ', 'ħ', 'ŋ', 'œ', 'ƒ', 'ɐ', 'ɑ', 'ɒ', 'ɔ', 'ɕ', 'ə', 'ɡ', 'ɣ', 'ɨ', 'ɪ', 'ɫ', 'ɬ', 'ɯ', 'ɲ', 'ɴ', 'ɹ', 'ɾ', 'ʀ', 'ʁ', 'ʂ', 'ʃ', 'ʉ', 'ʊ', 'ʋ', 'ʌ', 'ʎ', 'ʐ', 'ʑ', 'ʒ', 'ʔ', 'ʰ', 'ʲ', 'ʳ', 'ʷ', 'ʸ', 'ʻ', 'ʼ', 'ʾ', 'ʿ', 'ˈ', 'ˡ', 'ˢ', 'ˣ', 'ˤ', 'β', 'γ', 'δ', 'ε', 'ζ', 'θ', 'κ', 'λ', 'μ', 'ξ', 'ο', 'π', 'ρ', 'σ', 'τ', 'υ', 'φ', 'χ', 'ψ', 'ω', 'б', 'г', 'д', 'ж', 'з', 'м', 'п', 'с', 'у', 'ф', 'х', 'ц', 'ч', 'ш', 'щ', 'ъ', 'э', 'ю', 'ђ', 'є', 'і', 'ј', 'љ', 'њ', 'ћ', 'ӏ', 'ա', 'բ', 'գ', 'դ', 'ե', 'թ', 'ի', 'լ', 'կ', 'հ', 'մ', 'յ', 'ն', 'ո', 'պ', 'ս', 'վ', 'տ', 'ր', 'ւ', 'ք', '־', 'א', 'ב', 'ג', 'ד', 'ו', 'ז', 'ח', 'ט', 'י', 'ך', 'כ', 'ל', 'ם', 'מ', 'ן', 'נ', 'ס', 'ע', 'ף', 'פ', 'ץ', 'צ', 'ק', 'ר', 'ש', 'ת', '،', 'ء', 'ب', 'ت', 'ث', 'ج', 'ح', 'خ', 'ذ', 'ز', 'س', 'ش', 'ص', 'ض', 'ط', 'ظ', 'ع', 'غ', 'ـ', 'ف', 'ق', 'ك', 'و', 'ى', 'ٹ', 'پ', 'چ', 'ک', 'گ', 'ں', 'ھ', 'ہ', 'ے', 'अ', 'आ', 'उ', 'ए', 'क', 'ख', 'ग', 'च', 'ज', 'ट', 'ड', 'ण', 'त', 'थ', 'द', 'ध', 'न', 'प', 'ब', 'भ', 'म', 'य', 'र', 'ल', 'व', 'श', 'ष', 'स', 'ह', 'ा', 'ि', 'ी', 'ो', '।', '॥', 'ং', 'অ', 'আ', 'ই', 'উ', 'এ', 'ও', 'ক', 'খ', 'গ', 'চ', 'ছ', 'জ', 'ট', 'ড', 'ণ', 'ত', 'থ', 'দ', 'ধ', 'ন', 'প', 'ব', 'ভ', 'ম', 'য', 'র', 'ল', 'শ', 'ষ', 'স', 'হ', 'া', 'ি', 'ী', 'ে', 'க', 'ச', 'ட', 'த', 'ந', 'ன', 'ப', 'ம', 'ய', 'ர', 'ல', 'ள', 'வ', 'ா', 'ி', 'ு', 'ே', 'ை', 'ನ', 'ರ', 'ಾ', 'ක', 'ය', 'ර', 'ල', 'ව', 'ා', 'ก', 'ง', 'ต', 'ท', 'น', 'พ', 'ม', 'ย', 'ร', 'ล', 'ว', 'ส', 'อ', 'า', 'เ', '་', '།', 'ག', 'ང', 'ད', 'ན', 'པ', 'བ', 'མ', 'འ', 'ར', 'ལ', 'ས', 'မ', 'ა', 'ბ', 'გ', 'დ', 'ე', 'ვ', 'თ', 'ი', 'კ', 'ლ', 'მ', 'ნ', 'ო', 'რ', 'ს', 'ტ', 'უ', 'ᄀ', 'ᄂ', 'ᄃ', 'ᄅ', 'ᄆ', 'ᄇ', 'ᄉ', 'ᄊ', 'ᄋ', 'ᄌ', 'ᄎ', 'ᄏ', 'ᄐ', 'ᄑ', 'ᄒ', 'ᅡ', 'ᅢ', 'ᅥ', 'ᅦ', 'ᅧ', 'ᅩ', 'ᅪ', 'ᅭ', 'ᅮ', 'ᅯ', 'ᅲ', 'ᅳ', 'ᅴ', 'ᅵ', 'ᆨ', 'ᆫ', 'ᆯ', 'ᆷ', 'ᆸ', 'ᆼ', 'ᴬ', 'ᴮ', 'ᴰ', 'ᴵ', 'ᴺ', 'ᵀ', 'ᵃ', 'ᵇ', 'ᵈ', 'ᵉ', 'ᵍ', 'ᵏ', 'ᵐ', 'ᵒ', 'ᵖ', 'ᵗ', 'ᵘ', 'ᵣ', 'ᵤ', 'ᵥ', 'ᶜ', 'ᶠ', '‐', '‑', '‒', '–', '—', '―', '‖', '‘', '’', '‚', '“', '”', '„', '†', '‡', '•', '…', '‰', '′', '″', '›', '‿', '⁄', '⁰', 'ⁱ', '⁴', '⁵', '⁶', '⁷', '⁸', '⁹', '⁻', 'ⁿ', '₅', '₆', '₇', '₈', '₉', '₊', '₍', '₎', 'ₐ', 'ₑ', 'ₒ', 'ₓ', 'ₕ', 'ₖ', 'ₗ', 'ₘ', 'ₚ', 'ₛ', 'ₜ', '₤', '₩', '€', '₱', '₹', 'ℓ', '№', 'ℝ', '™', '⅓', '⅔', '←', '↑', '→', '↓', '↔', '↦', '⇄', '⇌', '⇒', '∂', '∅', '∆', '∇', '∈', '∗', '∘', '√', '∞', '∧', '∨', '∩', '∪', '≈', '≡', '≤', '≥', '⊂', '⊆', '⊕', '⊗', '⋅', '─', '│', '■', '▪', '●', '★', '☆', '☉', '♠', '♣', '♥', '♦', '♯', '⟨', '⟩', 'ⱼ', '⺩', '⺼', '⽥', '、', '。', '〈', '〉', '《', '》', '「', '」', '『', '』', '〜', 'あ', 'い', 'う', 'え', 'お', 'か', 'き', 'く', 'け', 'こ', 'さ', 'し', 'す', 'せ', 'そ', 'た', 'ち', 'っ', 'つ', 'て', 'と', 'な', 'に', 'ぬ', 'ね', 'の', 'は', 'ひ', 'ふ', 'へ', 'ほ', 'ま', 'み', 'む', 'め', 'も', 'や', 'ゆ', 'よ', 'ら', 'り', 'る', 'れ', 'ろ', 'を', 'ん', 'ァ', 'ア', 'ィ', 'イ', 'ウ', 'ェ', 'エ', 'オ', 'カ', 'キ', 'ク', 'ケ', 'コ', 'サ', 'シ', 'ス', 'セ', 'タ', 'チ', 'ッ', 'ツ', 'テ', 'ト', 'ナ', 'ニ', 'ノ', 'ハ', 'ヒ', 'フ', 'ヘ', 'ホ', 'マ', 'ミ', 'ム', 'メ', 'モ', 'ャ', 'ュ', 'ョ', 'ラ', 'リ', 'ル', 'レ', 'ロ', 'ワ', 'ン', '・', 'ー', '一', '三', '上', '下', '不', '世', '中', '主', '久', '之', '也', '事', '二', '五', '井', '京', '人', '亻', '仁', '介', '代', '仮', '伊', '会', '佐', '侍', '保', '信', '健', '元', '光', '八', '公', '内', '出', '分', '前', '劉', '力', '加', '勝', '北', '区', '十', '千', '南', '博', '原', '口', '古', '史', '司', '合', '吉', '同', '名', '和', '囗', '四', '国', '國', '土', '地', '坂', '城', '堂', '場', '士', '夏', '外', '大', '天', '太', '夫', '奈', '女', '子', '学', '宀', '宇', '安', '宗', '定', '宣', '宮', '家', '宿', '寺', '將', '小', '尚', '山', '岡', '島', '崎', '川', '州', '巿', '帝', '平', '年', '幸', '广', '弘', '張', '彳', '後', '御', '德', '心', '忄', '志', '忠', '愛', '成', '我', '戦', '戸', '手', '扌', '政', '文', '新', '方', '日', '明', '星', '春', '昭', '智', '曲', '書', '月', '有', '朝', '木', '本', '李', '村', '東', '松', '林', '森', '楊', '樹', '橋', '歌', '止', '正', '武', '比', '氏', '民', '水', '氵', '氷', '永', '江', '沢', '河', '治', '法', '海', '清', '漢', '瀬', '火', '版', '犬', '王', '生', '田', '男', '疒', '発', '白', '的', '皇', '目', '相', '省', '真', '石', '示', '社', '神', '福', '禾', '秀', '秋', '空', '立', '章', '竹', '糹', '美', '義', '耳', '良', '艹', '花', '英', '華', '葉', '藤', '行', '街', '西', '見', '訁', '語', '谷', '貝', '貴', '車', '軍', '辶', '道', '郎', '郡', '部', '都', '里', '野', '金', '鈴', '镇', '長', '門', '間', '阝', '阿', '陳', '陽', '雄', '青', '面', '風', '食', '香', '馬', '高', '龍', '龸', 'ﬁ', 'ﬂ', '！', '（', '）', '，', '－', '．', '／', '：', '？', '～']\n"
          ],
          "name": "stdout"
        }
      ]
    },
    {
      "cell_type": "markdown",
      "metadata": {
        "colab_type": "text",
        "id": "uPnW2RetYc97"
      },
      "source": [
        "### Subwords vs. Whole-words\n",
        "\n",
        "Now, let's gather some statistics on the vocabulary."
      ]
    },
    {
      "cell_type": "code",
      "metadata": {
        "colab_type": "code",
        "id": "LjvrWcNTdkAW",
        "colab": {
          "base_uri": "https://localhost:8080/",
          "height": 380
        },
        "outputId": "813e884f-f266-4a24-cbf0-ec863b1bb1a5"
      },
      "source": [
        "# Measure the length of every token in the vocab.\n",
        "token_lengths = [len(token) for token in tokenizer.vocab.keys()]\n",
        "\n",
        "# Plot the number of tokens of each length.\n",
        "sns.countplot(token_lengths)\n",
        "plt.title('Vocab Token Lengths')\n",
        "plt.xlabel('Token Length')\n",
        "plt.ylabel('# of Tokens')\n",
        "\n",
        "print('Maximum token length:', max(token_lengths))"
      ],
      "execution_count": null,
      "outputs": [
        {
          "output_type": "stream",
          "text": [
            "Maximum token length: 18\n"
          ],
          "name": "stdout"
        },
        {
          "output_type": "display_data",
          "data": {
            "image/png": "[encoded data removed]",
            "text/plain": [
              "<Figure size 720x360 with 1 Axes>"
            ]
          },
          "metadata": {
            "tags": []
          }
        }
      ]
    },
    {
      "cell_type": "markdown",
      "metadata": {
        "colab_type": "text",
        "id": "QQ8YUh75Usqj"
      },
      "source": [
        "##  <span style=\"color:red\">Your turn. </span>\n",
        "\n",
        "1. **Count the number of subwords and whole words in the vocabulary.**\n",
        "2. **Plot the lengths of the subwords and whole words.**\n",
        "3. **Percentage of subwords and whole words out of the whole vocabulary.**"
      ]
    },
    {
      "cell_type": "code",
      "metadata": {
        "colab_type": "code",
        "id": "69Vf46p-Ym97",
        "colab": {
          "base_uri": "https://localhost:8080/",
          "height": 51
        },
        "outputId": "d65b17bc-d209-4224-9199-6eda5029402d"
      },
      "source": [
        "# Count the number of subwords in the vocabulary.\n",
        "numberOfSubWords = sum([token[0:2]==\"##\" for token in tokenizer.vocab.keys()])\n",
        "print(\"the number of subwors in Bert's vocabulary is:\", numberOfSubWords)\n",
        "numberOfWords = sum([((len(token)>1 and token[0:2] != \"##\") or (token[0:2] == \"##\" and len(token[2:])>1)) for token in tokenizer.vocab.keys()])\n",
        "print(\"the number of words in Bert's vocabulary is:\", numberOfWords)"
      ],
      "execution_count": null,
      "outputs": [
        {
          "output_type": "stream",
          "text": [
            "the number of subwors in Bert's vocabulary is: 5828\n",
            "the number of words in Bert's vocabulary is: 28528\n"
          ],
          "name": "stdout"
        }
      ]
    },
    {
      "cell_type": "code",
      "metadata": {
        "id": "gVRD0CZVorUP",
        "colab_type": "code",
        "colab": {
          "base_uri": "https://localhost:8080/",
          "height": 380
        },
        "outputId": "02fb3b47-3b4b-4661-e54a-8c54f6cee88f"
      },
      "source": [
        "# Plot the subword lengths (not including the two '##' characters).\n",
        "subWLength = [len(token) for token in tokenizer.vocab.keys() if (token[0:2]=='##' and len(token) > 3)]\n",
        "sns.countplot(subWLength)\n",
        "plt.title(\"SubWords lengths count\")\n",
        "plt.xlabel(\"lengths\")\n",
        "plt.ylabel(\"counts\")"
      ],
      "execution_count": null,
      "outputs": [
        {
          "output_type": "execute_result",
          "data": {
            "text/plain": [
              "Text(0, 0.5, 'counts')"
            ]
          },
          "metadata": {
            "tags": []
          },
          "execution_count": 24
        },
        {
          "output_type": "display_data",
          "data": {
            "image/png": "[encoded data removed]",
            "text/plain": [
              "<Figure size 720x360 with 1 Axes>"
            ]
          },
          "metadata": {
            "tags": []
          }
        }
      ]
    },
    {
      "cell_type": "code",
      "metadata": {
        "colab_type": "code",
        "id": "PJh6wl2bSzaC",
        "colab": {
          "base_uri": "https://localhost:8080/",
          "height": 34
        },
        "outputId": "35216d78-6e57-4c67-89e5-375ae9ffbf86"
      },
      "source": [
        "# Calculate the percentage of words that are '##' subwords.\n",
        "print(\"the percentage of words that are subwords is: \", numberOfSubWords/numberOfWords, \"%\")"
      ],
      "execution_count": null,
      "outputs": [
        {
          "output_type": "stream",
          "text": [
            "the percentage of words that are subwords is:  0.2042905215928211 %\n"
          ],
          "name": "stdout"
        }
      ]
    },
    {
      "cell_type": "markdown",
      "metadata": {
        "colab_type": "text",
        "id": "PRaaspCfyqsY"
      },
      "source": [
        "### Names\n",
        "\n"
      ]
    },
    {
      "cell_type": "markdown",
      "metadata": {
        "colab_type": "text",
        "id": "_Aldwa2EP96t"
      },
      "source": [
        "Let's see if BERT vocabulary contrains any names, we'll use a list of popular names provided by gutenberg [here]('http://www.gutenberg.org/files/3201/files/NAMES.TXT'). So first, we'll download using wget."
      ]
    },
    {
      "cell_type": "code",
      "metadata": {
        "colab_type": "code",
        "id": "s7OLeBs_zBiR",
        "colab": {
          "base_uri": "https://localhost:8080/",
          "height": 208
        },
        "outputId": "8eeaa43f-4323-49a7-8719-851a5e1824ea"
      },
      "source": [
        "!pip install wget\n",
        "import wget\n",
        "\n",
        "url = 'http://www.gutenberg.org/files/3201/files/NAMES.TXT'\n",
        "wget.download(url, 'first-names.txt')"
      ],
      "execution_count": null,
      "outputs": [
        {
          "output_type": "stream",
          "text": [
            "Collecting wget\n",
            "  Downloading https://files.pythonhosted.org/packages/47/6a/62e288da7bcda82b935ff0c6cfe542970f04e29c756b0e147251b2fb251f/wget-3.2.zip\n",
            "Building wheels for collected packages: wget\n",
            "  Building wheel for wget (setup.py) ... \u001b[?25l\u001b[?25hdone\n",
            "  Created wheel for wget: filename=wget-3.2-cp36-none-any.whl size=9682 sha256=4f4b543123b123d62e37187b4c3bc0d5dfeff21a9c307a3261419912da614378\n",
            "  Stored in directory: /root/.cache/pip/wheels/40/15/30/7d8f7cea2902b4db79e3fea550d7d7b85ecb27ef992b618f3f\n",
            "Successfully built wget\n",
            "Installing collected packages: wget\n",
            "Successfully installed wget-3.2\n"
          ],
          "name": "stdout"
        },
        {
          "output_type": "execute_result",
          "data": {
            "application/vnd.google.colaboratory.intrinsic+json": {
              "type": "string"
            },
            "text/plain": [
              "'first-names.txt'"
            ]
          },
          "metadata": {
            "tags": []
          },
          "execution_count": 31
        }
      ]
    },
    {
      "cell_type": "code",
      "metadata": {
        "colab_type": "code",
        "id": "FHF1JgrqY7Zi",
        "colab": {
          "base_uri": "https://localhost:8080/",
          "height": 51
        },
        "outputId": "8cfd7617-370c-4757-aa45-d9f3b9fc341c"
      },
      "source": [
        "# Read and decode the names, then convert them to lowercase, and strip newlines.\n",
        "\n",
        "with open('first-names.txt', 'rb') as f:\n",
        "    names_encoded = f.readlines()\n",
        "\n",
        "names = []\n",
        "for name in names_encoded:\n",
        "    try:\n",
        "        names.append(name.rstrip().lower().decode('utf-8'))\n",
        "    except:\n",
        "        continue\n",
        "\n",
        "print('Number of names: {:,}'.format(len(names)))\n",
        "print('Example:', random.choice(names))"
      ],
      "execution_count": null,
      "outputs": [
        {
          "output_type": "stream",
          "text": [
            "Number of names: 21,985\n",
            "Example: edison\n"
          ],
          "name": "stdout"
        }
      ]
    },
    {
      "cell_type": "markdown",
      "metadata": {
        "colab_type": "text",
        "id": "0gefw2nfP960"
      },
      "source": [
        "##  <span style=\"color:red\">Your turn.</span>\n",
        "\n",
        "1. **Count how many names are in the vocabulary.**\n",
        "2. **Count how many number are in the vocabulary.**"
      ]
    },
    {
      "cell_type": "markdown",
      "metadata": {
        "colab_type": "text",
        "id": "3HGvwsy0ynkq"
      },
      "source": [
        "### Names"
      ]
    },
    {
      "cell_type": "code",
      "metadata": {
        "colab_type": "code",
        "id": "6heL05KQzmCa",
        "colab": {
          "base_uri": "https://localhost:8080/",
          "height": 34
        },
        "outputId": "23c898bf-d8f8-4a44-a492-dd455ff74c42"
      },
      "source": [
        "# Count the number of namesin the vocabulary\n",
        "print(\"the number of names in the vocavbulary is:\",sum([token in names for token in tokenizer.vocab.keys()]))\n"
      ],
      "execution_count": null,
      "outputs": [
        {
          "output_type": "stream",
          "text": [
            "the number of names in the vocavbulary is: 3865\n"
          ],
          "name": "stdout"
        }
      ]
    },
    {
      "cell_type": "markdown",
      "metadata": {
        "colab_type": "text",
        "id": "wEY1IHydP965"
      },
      "source": [
        "### Numbers"
      ]
    },
    {
      "cell_type": "code",
      "metadata": {
        "colab_type": "code",
        "id": "h5T_-gfQZKm6",
        "colab": {
          "base_uri": "https://localhost:8080/",
          "height": 34
        },
        "outputId": "3f826551-f77c-4c03-c303-c23f91d47b83"
      },
      "source": [
        "# Count how many numbers are in the vocabulary.\n",
        "print(\"the number of numbers in the vocabulary is:\", sum([token.isnumeric() for token in tokenizer.vocab.keys()]))"
      ],
      "execution_count": null,
      "outputs": [
        {
          "output_type": "stream",
          "text": [
            "the number of numbers in the vocabulary is: 894\n"
          ],
          "name": "stdout"
        }
      ]
    },
    {
      "cell_type": "code",
      "metadata": {
        "id": "I4UCpNAd-H1p",
        "colab_type": "code",
        "colab": {}
      },
      "source": [
        ""
      ],
      "execution_count": null,
      "outputs": []
    }
  ]
}