{
 "cells": [
  {
   "cell_type": "markdown",
   "metadata": {
    "colab_type": "text",
    "id": "whjogPl1KL4-"
   },
   "source": [
    "# Lab 1: Introduction"
   ]
  },
  {
   "cell_type": "markdown",
   "metadata": {
    "colab_type": "text",
    "id": "O0wWu4oEKYtc"
   },
   "source": [
    "First, we need to install the transformers library.\n",
    "Other than that, the packages will need are already installed in Colab (e.g., pytorch)."
   ]
  },
  {
   "cell_type": "code",
   "execution_count": null,
   "metadata": {
    "colab": {
     "base_uri": "https://localhost:8080/",
     "height": 366
    },
    "colab_type": "code",
    "id": "PzCjfNB6jksJ",
    "outputId": "9cf41a05-fa5a-4a5e-e6f6-a344f7143f8a"
   },
   "outputs": [],
   "source": [
    "!pip install transformers"
   ]
  },
  {
   "cell_type": "code",
   "execution_count": null,
   "metadata": {
    "colab": {},
    "colab_type": "code",
    "id": "nwpkz_WYjscB"
   },
   "outputs": [],
   "source": [
    "# Imports\n",
    "import torch\n",
    "from transformers import BertTokenizer\n",
    "import matplotlib.pyplot as plt\n",
    "import seaborn as sns\n",
    "import numpy as np\n",
    "import random"
   ]
  },
  {
   "cell_type": "code",
   "execution_count": null,
   "metadata": {
    "colab": {},
    "colab_type": "code",
    "id": "Cpr3fdTrP951"
   },
   "outputs": [],
   "source": [
    "# Set plotting style\n",
    "sns.set(style='darkgrid')\n",
    "\n",
    "# Increase the plot size and font size.\n",
    "sns.set(font_scale=1.5)\n",
    "plt.rcParams[\"figure.figsize\"] = (10,5)"
   ]
  },
  {
   "cell_type": "markdown",
   "metadata": {
    "colab_type": "text",
    "id": "B8FD0tDpKVBF"
   },
   "source": [
    "## Inspect BERT Vocabulary\n",
    "\n",
    "Let us by inspecing the BERT vocabulary that is the words, subwords and characters that BERT learned their embeddings during pretraining."
   ]
  },
  {
   "cell_type": "markdown",
   "metadata": {
    "colab_type": "text",
    "id": "Q2GhWrQYP957"
   },
   "source": [
    "### Vocabulary\n",
    "First, we'll retrieve the entire list of \"tokens\" and write these out to text files so we can see them."
   ]
  },
  {
   "cell_type": "code",
   "execution_count": null,
   "metadata": {
    "colab": {
     "base_uri": "https://localhost:8080/",
     "height": 67,
     "referenced_widgets": [
      "0735f752c966432bb1133fec0c7c9a50",
      "db2fc7b8ea4c4bb79a1542cb25dcb180",
      "29805289888b49b88e3f90a06d8f8e99",
      "3368c8f862c84c86a8416245352d872a",
      "93f68238c193452ea8dcc3acdb9ef25f",
      "2a2a52e2cbdf4b48ae05d381bfbb3800",
      "a67c92cfdffb449fa0a760c6a1189331",
      "72cd14cc0e6a4186a6657cf29bafdbac"
     ]
    },
    "colab_type": "code",
    "id": "NRf7NXJGgsnG",
    "outputId": "5745ecf3-9d35-4276-eb84-2d2d71464d9e"
   },
   "outputs": [],
   "source": [
    "# Load pre-trained model tokenizer, and write each token on a new line\n",
    "tokenizer = BertTokenizer.from_pretrained('bert-base-uncased')\n",
    "\n",
    "with open(\"vocabulary.txt\", 'w') as f:\n",
    "    for token in tokenizer.vocab.keys():\n",
    "        f.write(token + '\\n')"
   ]
  },
  {
   "cell_type": "markdown",
   "metadata": {
    "colab_type": "text",
    "id": "c8geTQ3Iidsv"
   },
   "source": [
    "Now if you go and open the file we're just dumped, you'll see the vocabulary BERT uses, for example:\n",
    "\n",
    "* The first 999 tokens (1-indexed) appear to be reserved, and most are of the form [unused957].\n",
    "    * 1   - [PAD]\n",
    "    * 101 - [UNK]\n",
    "    * 102 - [CLS]\n",
    "    * 103 - [SEP]\n",
    "    * 104 - [MASK]\n",
    "* Rows 1000-1996 appear to be a dump of individual characters. \n",
    "    * They don't appear to be sorted by frequency (e.g., the letters of the alphabet are all in sequence).\n",
    "* The first word is \"the\" at position 1997.\n",
    "    * From there, the words appear to be sorted by frequency. \n",
    "    * The top ~18 words are whole words, and then number 2016 is ##s, the most common subword.\n",
    "    * The last whole word is at 29612, \"necessitated\""
   ]
  },
  {
   "cell_type": "markdown",
   "metadata": {
    "colab_type": "text",
    "id": "uviYdpTZYMmd"
   },
   "source": [
    "### Single Characters"
   ]
  },
  {
   "cell_type": "markdown",
   "metadata": {
    "colab_type": "text",
    "id": "Bu-KbpbR1L4q"
   },
   "source": [
    "As discussed earlier, BERT vocabulary contains subwords and characters, that are very useful to represent some the input text if its not in the vocabulary in the form of whole word. Avoiding the need to UNKOWN tokens.\n",
    "\n",
    "Let's see investigate how much of the vocabulary are single characters and subwords of single characters, i.e., subwords have a '##' as a prefix, so **##s** is a subword and **s** in a charcater."
   ]
  },
  {
   "cell_type": "markdown",
   "metadata": {
    "colab_type": "text",
    "id": "uBYA-hHWP96F"
   },
   "source": [
    "\n",
    "The following code prints out all of the single character tokens in vocabulary, as well as all of the single-character tokens preceded by '##'.\n",
    "\n",
    "It turns out that these are matching sets--for every standalone character there is also a '##' version. There are 997 single character tokens."
   ]
  },
  {
   "cell_type": "markdown",
   "metadata": {
    "colab_type": "text",
    "id": "Q6ysF8LD1fbl"
   },
   "source": [
    "The following cell iterates over the vocabulary, pulling out all of the single character tokens."
   ]
  },
  {
   "cell_type": "code",
   "execution_count": null,
   "metadata": {
    "colab": {
     "base_uri": "https://localhost:8080/",
     "height": 90
    },
    "colab_type": "code",
    "id": "YHpH2NEPy3t9",
    "outputId": "d39dd68e-0894-4c4c-cc79-763117b322fd"
   },
   "outputs": [],
   "source": [
    "# Fetch tokens that are either characters, so of length one\n",
    "# Or tokens that are either subword of one character, so of length 3 and a prefix ##\n",
    "\n",
    "one_chars = []\n",
    "one_chars_subwords = []\n",
    "\n",
    "for token in tokenizer.vocab.keys():\n",
    "    if len(token) == 1:\n",
    "        one_chars.append(token)\n",
    "    \n",
    "    elif len(token) == 3 and token[0:2] == '##':\n",
    "        one_chars_subwords.append(token)\n",
    "\n",
    "print('Number of single character tokens:', len(one_chars), '\\n')\n",
    "\n",
    "print('Number of single character subwords:', len(one_chars_subwords), '\\n')"
   ]
  },
  {
   "cell_type": "code",
   "execution_count": null,
   "metadata": {
    "colab": {
     "base_uri": "https://localhost:8080/",
     "height": 476
    },
    "colab_type": "code",
    "id": "jCzfsjHrzZYn",
    "outputId": "e51f9bd2-c868-4407-f8bc-468fee826dde"
   },
   "outputs": [],
   "source": [
    "# Print all of the single characters, 40 per row.\n",
    "for i in range(0, len(one_chars), 40):\n",
    "    print(' '.join(one_chars[i:i + 40]))"
   ]
  },
  {
   "cell_type": "code",
   "execution_count": null,
   "metadata": {
    "colab": {
     "base_uri": "https://localhost:8080/",
     "height": 476
    },
    "colab_type": "code",
    "id": "62MD-M1N0R-W",
    "outputId": "8686251c-2ccb-4bf1-ad02-3fd93296a527"
   },
   "outputs": [],
   "source": [
    "# Print all of the single character subwords, 40 per row, without the hashes.\n",
    "one_chars_subwords = [token.replace('##', '') for token in one_chars_subwords]\n",
    "\n",
    "for i in range(0, len(one_chars_subwords), 40):\n",
    "    print(' '.join(one_chars_subwords[i:i + 40]))"
   ]
  },
  {
   "cell_type": "code",
   "execution_count": null,
   "metadata": {
    "colab": {
     "base_uri": "https://localhost:8080/",
     "height": 35
    },
    "colab_type": "code",
    "id": "u-TFrVP9005S",
    "outputId": "074ed955-df7f-41e7-acba-f35854ac4f08"
   },
   "outputs": [],
   "source": [
    "# We see that each character can also be a subword\n",
    "print('Are the two sets identical?', set(one_chars) == set(one_chars_subwords))"
   ]
  },
  {
   "cell_type": "markdown",
   "metadata": {
    "colab_type": "text",
    "id": "uPnW2RetYc97"
   },
   "source": [
    "### Subwords vs. Whole-words\n",
    "\n",
    "Now, let's gather some statistics on the vocabulary."
   ]
  },
  {
   "cell_type": "code",
   "execution_count": null,
   "metadata": {
    "colab": {
     "base_uri": "https://localhost:8080/",
     "height": 390
    },
    "colab_type": "code",
    "id": "LjvrWcNTdkAW",
    "outputId": "ddbdfdb7-44c8-49e5-eb8c-929fc4093bb9"
   },
   "outputs": [],
   "source": [
    "# Measure the length of every token in the vocab.\n",
    "token_lengths = [len(token) for token in tokenizer.vocab.keys()]\n",
    "\n",
    "# Plot the number of tokens of each length.\n",
    "sns.countplot(token_lengths)\n",
    "plt.title('Vocab Token Lengths')\n",
    "plt.xlabel('Token Length')\n",
    "plt.ylabel('# of Tokens')\n",
    "\n",
    "print('Maximum token length:', max(token_lengths))"
   ]
  },
  {
   "cell_type": "markdown",
   "metadata": {
    "colab_type": "text",
    "id": "QQ8YUh75Usqj"
   },
   "source": [
    "##  <span style=\"color:red\">Your turn. </span>\n",
    "\n",
    "1. **Count the number of subwords and whole words in the vocabulary.**\n",
    "2. **Plot the lengths of the subwords and whole words.**\n",
    "3. **Percentage of subwords and whole words out of the whole vocabulary.**"
   ]
  },
  {
   "cell_type": "code",
   "execution_count": null,
   "metadata": {
    "colab": {},
    "colab_type": "code",
    "id": "69Vf46p-Ym97"
   },
   "outputs": [],
   "source": [
    "# Count the number of subwords in the vocabulary."
   ]
  },
  {
   "cell_type": "code",
   "execution_count": null,
   "metadata": {},
   "outputs": [],
   "source": [
    "# Plot the subword lengths (not including the two '##' characters)."
   ]
  },
  {
   "cell_type": "code",
   "execution_count": null,
   "metadata": {
    "colab": {
     "base_uri": "https://localhost:8080/",
     "height": 54
    },
    "colab_type": "code",
    "id": "PJh6wl2bSzaC",
    "outputId": "75e3dce8-afb9-453d-cea2-54fbe6d82ae0"
   },
   "outputs": [],
   "source": [
    "# Calculate the percentage of words that are '##' subwords."
   ]
  },
  {
   "cell_type": "markdown",
   "metadata": {
    "colab_type": "text",
    "id": "PRaaspCfyqsY"
   },
   "source": [
    "### Names\n",
    "\n"
   ]
  },
  {
   "cell_type": "markdown",
   "metadata": {
    "colab_type": "text",
    "id": "_Aldwa2EP96t"
   },
   "source": [
    "Let's see if BERT vocabulary contrains any names, we'll use a list of popular names provided by gutenberg [here]('http://www.gutenberg.org/files/3201/files/NAMES.TXT'). So first, we'll download using wget."
   ]
  },
  {
   "cell_type": "code",
   "execution_count": null,
   "metadata": {
    "colab": {
     "base_uri": "https://localhost:8080/",
     "height": 201
    },
    "colab_type": "code",
    "id": "s7OLeBs_zBiR",
    "outputId": "50d05740-8bd2-460b-bf98-c4af7f02230d"
   },
   "outputs": [],
   "source": [
    "!pip install wget\n",
    "import wget\n",
    "\n",
    "url = 'http://www.gutenberg.org/files/3201/files/NAMES.TXT'\n",
    "wget.download(url, 'first-names.txt')"
   ]
  },
  {
   "cell_type": "code",
   "execution_count": null,
   "metadata": {
    "colab": {
     "base_uri": "https://localhost:8080/",
     "height": 54
    },
    "colab_type": "code",
    "id": "FHF1JgrqY7Zi",
    "outputId": "f8b66a1a-97d9-41ef-f7a0-1e87d13ec80d"
   },
   "outputs": [],
   "source": [
    "# Read and decode the names, then convert them to lowercase, and strip newlines.\n",
    "\n",
    "with open('first-names.txt', 'rb') as f:\n",
    "    names_encoded = f.readlines()\n",
    "\n",
    "names = []\n",
    "for name in names_encoded:\n",
    "    try:\n",
    "        names.append(name.rstrip().lower().decode('utf-8'))\n",
    "    except:\n",
    "        continue\n",
    "\n",
    "print('Number of names: {:,}'.format(len(names)))\n",
    "print('Example:', random.choice(names))"
   ]
  },
  {
   "cell_type": "markdown",
   "metadata": {
    "colab_type": "text",
    "id": "0gefw2nfP960"
   },
   "source": [
    "##  <span style=\"color:red\">Your turn.</span>\n",
    "\n",
    "1. **Count how many names are in the vocabulary.**\n",
    "2. **Count how many number are in the vocabulary.**"
   ]
  },
  {
   "cell_type": "markdown",
   "metadata": {
    "colab_type": "text",
    "id": "3HGvwsy0ynkq"
   },
   "source": [
    "### Names"
   ]
  },
  {
   "cell_type": "code",
   "execution_count": null,
   "metadata": {
    "colab": {
     "base_uri": "https://localhost:8080/",
     "height": 35
    },
    "colab_type": "code",
    "id": "6heL05KQzmCa",
    "outputId": "d7771308-0e56-4015-8e89-0e5fa4dd8c65"
   },
   "outputs": [],
   "source": [
    "# Count the number of namesin the vocabulary\n"
   ]
  },
  {
   "cell_type": "markdown",
   "metadata": {
    "colab_type": "text",
    "id": "wEY1IHydP965"
   },
   "source": [
    "### Numbers"
   ]
  },
  {
   "cell_type": "code",
   "execution_count": null,
   "metadata": {
    "colab": {
     "base_uri": "https://localhost:8080/",
     "height": 54
    },
    "colab_type": "code",
    "id": "h5T_-gfQZKm6",
    "outputId": "1bf2a8b4-0739-4cfc-f74c-a9ff23133e3e"
   },
   "outputs": [],
   "source": [
    "# Count how many numbers are in the vocabulary.\n"
   ]
  }
 ],
 "metadata": {
  "colab": {
   "collapsed_sections": [],
   "name": "BERT_vocabulary.ipynb",
   "provenance": [],
   "toc_visible": true
  },
  "kernelspec": {
   "display_name": "Python 3",
   "language": "python",
   "name": "python3"
  },
  "language_info": {
   "codemirror_mode": {
    "name": "ipython",
    "version": 3
   },
   "file_extension": ".py",
   "mimetype": "text/x-python",
   "name": "python",
   "nbconvert_exporter": "python",
   "pygments_lexer": "ipython3",
   "version": "3.8.3"
  },
  "widgets": {
   "application/vnd.jupyter.widget-state+json": {
    "0735f752c966432bb1133fec0c7c9a50": {
     "model_module": "@jupyter-widgets/controls",
     "model_name": "HBoxModel",
     "state": {
      "_dom_classes": [],
      "_model_module": "@jupyter-widgets/controls",
      "_model_module_version": "1.5.0",
      "_model_name": "HBoxModel",
      "_view_count": null,
      "_view_module": "@jupyter-widgets/controls",
      "_view_module_version": "1.5.0",
      "_view_name": "HBoxView",
      "box_style": "",
      "children": [
       "IPY_MODEL_29805289888b49b88e3f90a06d8f8e99",
       "IPY_MODEL_3368c8f862c84c86a8416245352d872a"
      ],
      "layout": "IPY_MODEL_db2fc7b8ea4c4bb79a1542cb25dcb180"
     }
    },
    "29805289888b49b88e3f90a06d8f8e99": {
     "model_module": "@jupyter-widgets/controls",
     "model_name": "FloatProgressModel",
     "state": {
      "_dom_classes": [],
      "_model_module": "@jupyter-widgets/controls",
      "_model_module_version": "1.5.0",
      "_model_name": "FloatProgressModel",
      "_view_count": null,
      "_view_module": "@jupyter-widgets/controls",
      "_view_module_version": "1.5.0",
      "_view_name": "ProgressView",
      "bar_style": "success",
      "description": "Downloading: 100%",
      "description_tooltip": null,
      "layout": "IPY_MODEL_2a2a52e2cbdf4b48ae05d381bfbb3800",
      "max": 231508,
      "min": 0,
      "orientation": "horizontal",
      "style": "IPY_MODEL_93f68238c193452ea8dcc3acdb9ef25f",
      "value": 231508
     }
    },
    "2a2a52e2cbdf4b48ae05d381bfbb3800": {
     "model_module": "@jupyter-widgets/base",
     "model_name": "LayoutModel",
     "state": {
      "_model_module": "@jupyter-widgets/base",
      "_model_module_version": "1.2.0",
      "_model_name": "LayoutModel",
      "_view_count": null,
      "_view_module": "@jupyter-widgets/base",
      "_view_module_version": "1.2.0",
      "_view_name": "LayoutView",
      "align_content": null,
      "align_items": null,
      "align_self": null,
      "border": null,
      "bottom": null,
      "display": null,
      "flex": null,
      "flex_flow": null,
      "grid_area": null,
      "grid_auto_columns": null,
      "grid_auto_flow": null,
      "grid_auto_rows": null,
      "grid_column": null,
      "grid_gap": null,
      "grid_row": null,
      "grid_template_areas": null,
      "grid_template_columns": null,
      "grid_template_rows": null,
      "height": null,
      "justify_content": null,
      "justify_items": null,
      "left": null,
      "margin": null,
      "max_height": null,
      "max_width": null,
      "min_height": null,
      "min_width": null,
      "object_fit": null,
      "object_position": null,
      "order": null,
      "overflow": null,
      "overflow_x": null,
      "overflow_y": null,
      "padding": null,
      "right": null,
      "top": null,
      "visibility": null,
      "width": null
     }
    },
    "3368c8f862c84c86a8416245352d872a": {
     "model_module": "@jupyter-widgets/controls",
     "model_name": "HTMLModel",
     "state": {
      "_dom_classes": [],
      "_model_module": "@jupyter-widgets/controls",
      "_model_module_version": "1.5.0",
      "_model_name": "HTMLModel",
      "_view_count": null,
      "_view_module": "@jupyter-widgets/controls",
      "_view_module_version": "1.5.0",
      "_view_name": "HTMLView",
      "description": "",
      "description_tooltip": null,
      "layout": "IPY_MODEL_72cd14cc0e6a4186a6657cf29bafdbac",
      "placeholder": "​",
      "style": "IPY_MODEL_a67c92cfdffb449fa0a760c6a1189331",
      "value": " 232k/232k [00:00&lt;00:00, 2.06MB/s]"
     }
    },
    "72cd14cc0e6a4186a6657cf29bafdbac": {
     "model_module": "@jupyter-widgets/base",
     "model_name": "LayoutModel",
     "state": {
      "_model_module": "@jupyter-widgets/base",
      "_model_module_version": "1.2.0",
      "_model_name": "LayoutModel",
      "_view_count": null,
      "_view_module": "@jupyter-widgets/base",
      "_view_module_version": "1.2.0",
      "_view_name": "LayoutView",
      "align_content": null,
      "align_items": null,
      "align_self": null,
      "border": null,
      "bottom": null,
      "display": null,
      "flex": null,
      "flex_flow": null,
      "grid_area": null,
      "grid_auto_columns": null,
      "grid_auto_flow": null,
      "grid_auto_rows": null,
      "grid_column": null,
      "grid_gap": null,
      "grid_row": null,
      "grid_template_areas": null,
      "grid_template_columns": null,
      "grid_template_rows": null,
      "height": null,
      "justify_content": null,
      "justify_items": null,
      "left": null,
      "margin": null,
      "max_height": null,
      "max_width": null,
      "min_height": null,
      "min_width": null,
      "object_fit": null,
      "object_position": null,
      "order": null,
      "overflow": null,
      "overflow_x": null,
      "overflow_y": null,
      "padding": null,
      "right": null,
      "top": null,
      "visibility": null,
      "width": null
     }
    },
    "93f68238c193452ea8dcc3acdb9ef25f": {
     "model_module": "@jupyter-widgets/controls",
     "model_name": "ProgressStyleModel",
     "state": {
      "_model_module": "@jupyter-widgets/controls",
      "_model_module_version": "1.5.0",
      "_model_name": "ProgressStyleModel",
      "_view_count": null,
      "_view_module": "@jupyter-widgets/base",
      "_view_module_version": "1.2.0",
      "_view_name": "StyleView",
      "bar_color": null,
      "description_width": "initial"
     }
    },
    "a67c92cfdffb449fa0a760c6a1189331": {
     "model_module": "@jupyter-widgets/controls",
     "model_name": "DescriptionStyleModel",
     "state": {
      "_model_module": "@jupyter-widgets/controls",
      "_model_module_version": "1.5.0",
      "_model_name": "DescriptionStyleModel",
      "_view_count": null,
      "_view_module": "@jupyter-widgets/base",
      "_view_module_version": "1.2.0",
      "_view_name": "StyleView",
      "description_width": ""
     }
    },
    "db2fc7b8ea4c4bb79a1542cb25dcb180": {
     "model_module": "@jupyter-widgets/base",
     "model_name": "LayoutModel",
     "state": {
      "_model_module": "@jupyter-widgets/base",
      "_model_module_version": "1.2.0",
      "_model_name": "LayoutModel",
      "_view_count": null,
      "_view_module": "@jupyter-widgets/base",
      "_view_module_version": "1.2.0",
      "_view_name": "LayoutView",
      "align_content": null,
      "align_items": null,
      "align_self": null,
      "border": null,
      "bottom": null,
      "display": null,
      "flex": null,
      "flex_flow": null,
      "grid_area": null,
      "grid_auto_columns": null,
      "grid_auto_flow": null,
      "grid_auto_rows": null,
      "grid_column": null,
      "grid_gap": null,
      "grid_row": null,
      "grid_template_areas": null,
      "grid_template_columns": null,
      "grid_template_rows": null,
      "height": null,
      "justify_content": null,
      "justify_items": null,
      "left": null,
      "margin": null,
      "max_height": null,
      "max_width": null,
      "min_height": null,
      "min_width": null,
      "object_fit": null,
      "object_position": null,
      "order": null,
      "overflow": null,
      "overflow_x": null,
      "overflow_y": null,
      "padding": null,
      "right": null,
      "top": null,
      "visibility": null,
      "width": null
     }
    }
   }
  }
 },
 "nbformat": 4,
 "nbformat_minor": 4
}
